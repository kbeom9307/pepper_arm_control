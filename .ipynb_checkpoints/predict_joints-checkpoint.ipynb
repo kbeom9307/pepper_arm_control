{
 "cells": [
  {
   "cell_type": "code",
   "execution_count": 1,
   "metadata": {},
   "outputs": [],
   "source": [
    "import qi #pepper와의 연결 및 모듈의 proxy(클라이언트와 서버 사이에 데이터를 전송하는)관리.\n",
    "import argparse\n",
    "import sys\n",
    "import motion\n",
    "import almath\n",
    "import math\n",
    "from matplotlib import pyplot as plt\n",
    "import time\n",
    "import numpy as np\n",
    "import naoqi as n\n",
    "import pepper_kinematics as pk\n",
    "from pepper_kinematics import forward_kinematics\n",
    "import Tkinter as tk\n",
    "import math\n",
    "import numpy as np"
   ]
  },
  {
   "cell_type": "code",
   "execution_count": 2,
   "metadata": {},
   "outputs": [],
   "source": [
    "sys.path.append('./pepper_kinematics/')\n",
    "sys.path.append('./simulation_draw_vector/')\n",
    "\n",
    "import drawRobotics as dR\n",
    "import Euler_Angles"
   ]
  },
  {
   "cell_type": "code",
   "execution_count": 3,
   "metadata": {},
   "outputs": [],
   "source": [
    "import ipywidgets as widgets\n",
    "from ipywidgets import interact, interact_manual"
   ]
  },
  {
   "cell_type": "code",
   "execution_count": 4,
   "metadata": {},
   "outputs": [
    {
     "data": {
      "text/plain": [
       "(1, 5)"
      ]
     },
     "execution_count": 4,
     "metadata": {},
     "output_type": "execute_result"
    }
   ],
   "source": [
    "import os\n",
    "path = './example'\n",
    "initial_joint = np.load(os.path.join(path, 'joint_data.npy'))\n",
    "np.array([initial_joint[30]]).shape"
   ]
  },
  {
   "cell_type": "code",
   "execution_count": 5,
   "metadata": {},
   "outputs": [],
   "source": [
    "predict_n = np.load('./example/predict.npy')\n",
    "joint_input = np.load('./example/joint_data.npy')\n",
    "xyz_input = np.load('./example/position_data.npy')"
   ]
  },
  {
   "cell_type": "code",
   "execution_count": 6,
   "metadata": {},
   "outputs": [],
   "source": [
    "predict = np.concatenate((np.array([initial_joint[30]]), predict_n))"
   ]
  },
  {
   "cell_type": "code",
   "execution_count": 7,
   "metadata": {},
   "outputs": [
    {
     "data": {
      "text/plain": [
       "(201, 5)"
      ]
     },
     "execution_count": 7,
     "metadata": {},
     "output_type": "execute_result"
    }
   ],
   "source": [
    "predict.shape"
   ]
  },
  {
   "cell_type": "code",
   "execution_count": 9,
   "metadata": {},
   "outputs": [
    {
     "data": {
      "application/vnd.jupyter.widget-view+json": {
       "model_id": "669de31427a74634b35674de104a4aa9",
       "version_major": 2,
       "version_minor": 0
      },
      "text/plain": [
       "aW50ZXJhY3RpdmUoY2hpbGRyZW49KEludFNsaWRlcih2YWx1ZT05OSwgZGVzY3JpcHRpb249dSdpJywgbWF4PTE5OSksIE91dHB1dCgpKSwgX2RvbV9jbGFzc2VzPSh1J3dpZGdldC1pbnRlcmHigKY=\n"
      ]
     },
     "metadata": {},
     "output_type": "display_data"
    }
   ],
   "source": [
    "@interact\n",
    "def plot_robot(i = (0,len(predict)-2)):\n",
    "    \n",
    "    current_position, current_orientation = pk.right_arm_get_position(joint_input[i,:])\n",
    "    predict_position, predict_orientation = pk.right_arm_get_position(predict[i,:])\n",
    "    Torso = np.array([[1, 0, 0, 0], \n",
    "                      [0, 1, 0, 0],\n",
    "                      [0, 0, 1, 0], \n",
    "                      [0, 0, 0, 1]])\n",
    "\n",
    "    #T1, T2, T3, T4, T5, T6 = pk.Right_arm_get_trans(joint_input[0][i])\n",
    "    T1, T2, T3, T4, T5, T6 = pk.right_arm_get_trans(joint_input[i,:])\n",
    "    t1, t2, t3, t4, t5, t6= pk.right_arm_get_trans(predict[i,:])\n",
    "    \n",
    "    x = np.array([Torso[:,3][0], T1[:,3][0], T3[:,3][0], T6[:,3][0]])\n",
    "    y = np.array([Torso[:,3][1], T1[:,3][1], T3[:,3][1], T6[:,3][1]])\n",
    "    z = np.array([Torso[:,3][2], T1[:,3][2], T3[:,3][2], T6[:,3][2]])\n",
    "    \n",
    "    x2 = np.array([Torso[:,3][0], t1[:,3][0], t3[:,3][0], t6[:,3][0]])\n",
    "    y2 = np.array([Torso[:,3][1], t1[:,3][1], t3[:,3][1], t6[:,3][1]])\n",
    "    z2 = np.array([Torso[:,3][2], t1[:,3][2], t3[:,3][2], t6[:,3][2]])\n",
    "    \n",
    "    fig = plt.figure(figsize = (10,10))\n",
    "    \n",
    "    ax = plt.axes(projection = '3d')\n",
    "    \n",
    "\n",
    "    #ax.invert_xaxis()\n",
    "    ax.view_init(30, -45)\n",
    "    #fig2 = plt.figure(figsize = (10,10))\n",
    "    #ax2 = plt.axes()\n",
    "    \n",
    "    ax.set_xlim(-0.1, 0.5)\n",
    "    ax.set_ylim(-0.4,0.1)\n",
    "    ax.set_zlim(-0.5,0.3)\n",
    "    #predict = red, lab = blue\n",
    "    \n",
    "    return ax.plot(x,y,z, 'b'), ax.plot(x2,y2,z2, 'r'), ax.plot([current_position[0]], [current_position[1]], [current_position[2]], 'bo'), ax.plot([predict_position[0]], [predict_position[1]], [predict_position[2]], 'ro') "
   ]
  },
  {
   "cell_type": "code",
   "execution_count": null,
   "metadata": {},
   "outputs": [],
   "source": []
  },
  {
   "cell_type": "markdown",
   "metadata": {},
   "source": [
    "### Pepper front camera image"
   ]
  },
  {
   "cell_type": "code",
   "execution_count": null,
   "metadata": {},
   "outputs": [],
   "source": [
    "import naoqi as n\n",
    "import qi\n",
    "import argparse\n",
    "import sys\n",
    "import time\n",
    "import vision_definitions\n",
    "import cv2\n",
    "import numpy\n",
    "from PIL import Image\n",
    "import datetime\n",
    "\n",
    "nao_ip = \"192.168.0.25\"\n",
    "port = 9559\n",
    "V = n.ALProxy(\"ALVideoDevice\", nao_ip, port)\n",
    "\n",
    "# Register a Generic Video Module\n",
    "resolution = vision_definitions.kQVGA # (320x240)\n",
    "colorSpace = 10 #vision_definitions.kYUVColorSpace\n",
    "fps = 30\n",
    "\n",
    "videoClient = V.subscribe(\"pepper_video\", resolution, colorSpace, fps)\n",
    "prevTime = 0\n",
    "output_path = '/home/mmmil-hw/beom_ws/keras/project.mp4'\n",
    "out = cv2.VideoWriter(output_path, cv2.VideoWriter_fourcc(*'DIVX'), 5, (320,240))\n",
    "while True:\n",
    "    \n",
    "    naoImage = V.getImageRemote(videoClient)\n",
    "    curTime = time.time()\n",
    "    sec = curTime - prevTime\n",
    "    preTime = curTime\n",
    "    \n",
    "    FPS = 1 / (sec)\n",
    "\n",
    "    \n",
    "    # Get the image size and pixel array.\n",
    "    imageWidth = naoImage[0]\n",
    "    imageHeight = naoImage[1]\n",
    "    array = naoImage[6]\n",
    "    image_string = str(bytearray(array))\n",
    "    \n",
    "    im = Image.frombytes(\"RGB\", (imageWidth, imageHeight), image_string)\n",
    "    \n",
    "    #image = cv2.cvtColor(numpy.array(im), cv2.COLOR_YUV2RGB)#, cv2.COLOR_BGR2RGB)\n",
    "    image = cv2.cvtColor(numpy.array(im), cv2.COLOR_YUV2BGR)#, cv2.COLOR_BGR2RGB)\n",
    "    \n",
    "    #out.write(image)\n",
    "    cv2.imshow(\"pepper_\",image)\n",
    "    \n",
    "    \n",
    "    if cv2.waitKey(1) & 0xFF == ord('q'):\n",
    "        V.unsubscribe(videoClient)\n",
    "        out.release()\n",
    "        cv2.destroyAllWindows()\n",
    "        break"
   ]
  }
 ],
 "metadata": {
  "kernelspec": {
   "display_name": "Python 2.7  ('py27': conda)",
   "language": "python",
   "name": "pythonjvsc74a57bd0621c8d37cdfab949fe71c24de9ba0424e02c84ed4537c54dfade42e38f4a8412"
  },
  "language_info": {
   "codemirror_mode": {
    "name": "ipython",
    "version": 2
   },
   "file_extension": ".py",
   "mimetype": "text/x-python",
   "name": "python",
   "nbconvert_exporter": "python",
   "pygments_lexer": "ipython2",
   "version": "2.7.18"
  }
 },
 "nbformat": 4,
 "nbformat_minor": 2
}
